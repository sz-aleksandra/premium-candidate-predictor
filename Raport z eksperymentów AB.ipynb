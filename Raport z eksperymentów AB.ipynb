{
 "cells": [
  {
   "cell_type": "markdown",
   "metadata": {},
   "source": [
    "# Eksperyment A/B"
   ]
  },
  {
   "cell_type": "markdown",
   "metadata": {},
   "source": [
    "*Załadowano biblioteki, moduły i pliki ze zbiorami testowymi*"
   ]
  },
  {
   "cell_type": "code",
   "execution_count": 2,
   "metadata": {},
   "outputs": [
    {
     "ename": "ModuleNotFoundError",
     "evalue": "No module named 'requests'",
     "output_type": "error",
     "traceback": [
      "\u001b[1;31m---------------------------------------------------------------------------\u001b[0m",
      "\u001b[1;31mModuleNotFoundError\u001b[0m                       Traceback (most recent call last)",
      "Cell \u001b[1;32mIn[2], line 1\u001b[0m\n\u001b[1;32m----> 1\u001b[0m \u001b[38;5;28;01mimport\u001b[39;00m \u001b[38;5;21;01mrequests\u001b[39;00m\n\u001b[0;32m      2\u001b[0m \u001b[38;5;28;01mfrom\u001b[39;00m \u001b[38;5;21;01msklearn\u001b[39;00m\u001b[38;5;21;01m.\u001b[39;00m\u001b[38;5;21;01mmodel_selection\u001b[39;00m \u001b[38;5;28;01mimport\u001b[39;00m train_test_split\n\u001b[0;32m      3\u001b[0m \u001b[38;5;28;01mfrom\u001b[39;00m \u001b[38;5;21;01mtqdm\u001b[39;00m \u001b[38;5;28;01mimport\u001b[39;00m tqdm\n",
      "\u001b[1;31mModuleNotFoundError\u001b[0m: No module named 'requests'"
     ]
    }
   ],
   "source": [
    "import requests\n",
    "from sklearn.model_selection import train_test_split\n",
    "from tqdm import tqdm\n",
    "from sklearn.metrics import confusion_matrix, precision_score, accuracy_score, f1_score\n",
    "from scipy import stats\n",
    "import json\n",
    "from numpy import var\n",
    "\n",
    "from model_creation import load_and_preprocess_data\n",
    "\n",
    "all_metrics = []\n",
    "\n",
    "X_test = load_and_preprocess_data('content/custom_data/X_test.csv')\n",
    "Y_test = load_and_preprocess_data('content/custom_data/Y_test.csv')"
   ]
  },
  {
   "cell_type": "markdown",
   "metadata": {},
   "source": [
    "*Wybrano seedy, na podstawie których zostały podzielone przypadki między model A i B. By wynik był miarodajny, wykonano kilkanaście iteracji.*"
   ]
  },
  {
   "cell_type": "markdown",
   "metadata": {},
   "source": [
    "Użyte seedy"
   ]
  },
  {
   "cell_type": "code",
   "execution_count": 1,
   "metadata": {},
   "outputs": [
    {
     "name": "stdout",
     "output_type": "stream",
     "text": [
      "Error: name 'json' is not defined\n",
      "[]\n"
     ]
    }
   ],
   "source": [
    "try:\n",
    "    with open('content/results/ab_results.json', 'r') as input_file:\n",
    "        old_metrics = json.load(input_file)\n",
    "except Exception as e:\n",
    "    print(f\"Error: {e}\")\n",
    "    old_metrics = []\n",
    "\n",
    "used_seeds = [experiment['seed'] for experiment in old_metrics]\n",
    "\n",
    "print(used_seeds)"
   ]
  },
  {
   "cell_type": "code",
   "execution_count": 22,
   "metadata": {},
   "outputs": [],
   "source": [
    "seeds = [16, 17, 18, 19, 20, 21, 22, 23, 24, 25, 26, 27, 28, 29, 30]"
   ]
  },
  {
   "cell_type": "markdown",
   "metadata": {},
   "source": [
    "Sprawdź, czy mikroserwis jest włączony"
   ]
  },
  {
   "cell_type": "code",
   "execution_count": 23,
   "metadata": {},
   "outputs": [
    {
     "name": "stdout",
     "output_type": "stream",
     "text": [
      "Serwis działa\n"
     ]
    }
   ],
   "source": [
    "try:\n",
    "    requests.get(\"http://localhost:8080/predict\")\n",
    "    print(\"Serwis działa\")\n",
    "except requests.exceptions.RequestException as e:\n",
    "    print(\"Wystąpił problem z połączeniem z serwisem\")"
   ]
  },
  {
   "cell_type": "markdown",
   "metadata": {},
   "source": [
    "Zbierz predykcje i zapisz metryki na podstawie, których oceniane będą modele"
   ]
  },
  {
   "cell_type": "code",
   "execution_count": 24,
   "metadata": {},
   "outputs": [
    {
     "name": "stdout",
     "output_type": "stream",
     "text": [
      "Running test for seed: 16\n"
     ]
    },
    {
     "name": "stderr",
     "output_type": "stream",
     "text": [
      "Sending requests for predictions (Base): 100%|██████████| 150/150 [05:07<00:00,  2.05s/it]\n",
      "Sending requests for predictions (Advanced): 100%|██████████| 150/150 [05:07<00:00,  2.05s/it]\n"
     ]
    },
    {
     "name": "stdout",
     "output_type": "stream",
     "text": [
      "Running test for seed: 17\n"
     ]
    },
    {
     "name": "stderr",
     "output_type": "stream",
     "text": [
      "Sending requests for predictions (Base): 100%|██████████| 150/150 [05:06<00:00,  2.05s/it]\n",
      "Sending requests for predictions (Advanced): 100%|██████████| 150/150 [05:06<00:00,  2.04s/it]\n"
     ]
    },
    {
     "name": "stdout",
     "output_type": "stream",
     "text": [
      "Running test for seed: 18\n"
     ]
    },
    {
     "name": "stderr",
     "output_type": "stream",
     "text": [
      "Sending requests for predictions (Base): 100%|██████████| 150/150 [05:06<00:00,  2.04s/it]\n",
      "Sending requests for predictions (Advanced): 100%|██████████| 150/150 [05:07<00:00,  2.05s/it]\n"
     ]
    },
    {
     "name": "stdout",
     "output_type": "stream",
     "text": [
      "Running test for seed: 19\n"
     ]
    },
    {
     "name": "stderr",
     "output_type": "stream",
     "text": [
      "Sending requests for predictions (Base): 100%|██████████| 150/150 [05:06<00:00,  2.04s/it]\n",
      "Sending requests for predictions (Advanced): 100%|██████████| 150/150 [05:07<00:00,  2.05s/it]\n"
     ]
    },
    {
     "name": "stdout",
     "output_type": "stream",
     "text": [
      "Running test for seed: 20\n"
     ]
    },
    {
     "name": "stderr",
     "output_type": "stream",
     "text": [
      "Sending requests for predictions (Base): 100%|██████████| 150/150 [05:06<00:00,  2.04s/it]\n",
      "Sending requests for predictions (Advanced): 100%|██████████| 150/150 [05:07<00:00,  2.05s/it]\n"
     ]
    },
    {
     "name": "stdout",
     "output_type": "stream",
     "text": [
      "Running test for seed: 21\n"
     ]
    },
    {
     "name": "stderr",
     "output_type": "stream",
     "text": [
      "Sending requests for predictions (Base): 100%|██████████| 150/150 [05:06<00:00,  2.04s/it]\n",
      "Sending requests for predictions (Advanced): 100%|██████████| 150/150 [05:07<00:00,  2.05s/it]\n"
     ]
    },
    {
     "name": "stdout",
     "output_type": "stream",
     "text": [
      "Running test for seed: 22\n"
     ]
    },
    {
     "name": "stderr",
     "output_type": "stream",
     "text": [
      "Sending requests for predictions (Base): 100%|██████████| 150/150 [05:06<00:00,  2.04s/it]\n",
      "Sending requests for predictions (Advanced): 100%|██████████| 150/150 [05:06<00:00,  2.04s/it]\n"
     ]
    },
    {
     "name": "stdout",
     "output_type": "stream",
     "text": [
      "Running test for seed: 23\n"
     ]
    },
    {
     "name": "stderr",
     "output_type": "stream",
     "text": [
      "Sending requests for predictions (Base): 100%|██████████| 150/150 [05:05<00:00,  2.04s/it]\n",
      "Sending requests for predictions (Advanced): 100%|██████████| 150/150 [05:06<00:00,  2.04s/it]\n"
     ]
    },
    {
     "name": "stdout",
     "output_type": "stream",
     "text": [
      "Running test for seed: 24\n"
     ]
    },
    {
     "name": "stderr",
     "output_type": "stream",
     "text": [
      "Sending requests for predictions (Base): 100%|██████████| 150/150 [05:06<00:00,  2.04s/it]\n",
      "Sending requests for predictions (Advanced): 100%|██████████| 150/150 [05:06<00:00,  2.04s/it]\n"
     ]
    },
    {
     "name": "stdout",
     "output_type": "stream",
     "text": [
      "Running test for seed: 25\n"
     ]
    },
    {
     "name": "stderr",
     "output_type": "stream",
     "text": [
      "Sending requests for predictions (Base): 100%|██████████| 150/150 [05:06<00:00,  2.04s/it]\n",
      "Sending requests for predictions (Advanced): 100%|██████████| 150/150 [05:06<00:00,  2.04s/it]\n"
     ]
    },
    {
     "name": "stdout",
     "output_type": "stream",
     "text": [
      "Running test for seed: 26\n"
     ]
    },
    {
     "name": "stderr",
     "output_type": "stream",
     "text": [
      "Sending requests for predictions (Base): 100%|██████████| 150/150 [05:06<00:00,  2.04s/it]\n",
      "Sending requests for predictions (Advanced): 100%|██████████| 150/150 [05:06<00:00,  2.04s/it]\n"
     ]
    },
    {
     "name": "stdout",
     "output_type": "stream",
     "text": [
      "Running test for seed: 27\n"
     ]
    },
    {
     "name": "stderr",
     "output_type": "stream",
     "text": [
      "Sending requests for predictions (Base): 100%|██████████| 150/150 [05:06<00:00,  2.04s/it]\n",
      "Sending requests for predictions (Advanced): 100%|██████████| 150/150 [05:06<00:00,  2.05s/it]\n"
     ]
    },
    {
     "name": "stdout",
     "output_type": "stream",
     "text": [
      "Running test for seed: 28\n"
     ]
    },
    {
     "name": "stderr",
     "output_type": "stream",
     "text": [
      "Sending requests for predictions (Base): 100%|██████████| 150/150 [05:05<00:00,  2.04s/it]\n",
      "Sending requests for predictions (Advanced): 100%|██████████| 150/150 [05:06<00:00,  2.05s/it]\n"
     ]
    },
    {
     "name": "stdout",
     "output_type": "stream",
     "text": [
      "Running test for seed: 29\n"
     ]
    },
    {
     "name": "stderr",
     "output_type": "stream",
     "text": [
      "Sending requests for predictions (Base): 100%|██████████| 150/150 [05:06<00:00,  2.04s/it]\n",
      "Sending requests for predictions (Advanced): 100%|██████████| 150/150 [05:06<00:00,  2.04s/it]\n"
     ]
    },
    {
     "name": "stdout",
     "output_type": "stream",
     "text": [
      "Running test for seed: 30\n"
     ]
    },
    {
     "name": "stderr",
     "output_type": "stream",
     "text": [
      "Sending requests for predictions (Base): 100%|██████████| 150/150 [05:05<00:00,  2.04s/it]\n",
      "Sending requests for predictions (Advanced): 100%|██████████| 150/150 [05:06<00:00,  2.04s/it]\n"
     ]
    }
   ],
   "source": [
    "for seed in seeds:\n",
    "    print(f\"Running test for seed: {seed}\")\n",
    "\n",
    "    X_base, X_advanced, Y_base, Y_advanced = train_test_split(X_test, Y_test, test_size=0.5, random_state=seed)\n",
    "    base_dicts = X_base.to_dict(orient='records')\n",
    "    advanced_dicts = X_advanced.to_dict(orient='records')\n",
    "\n",
    "    # Make predictions for divided sets\n",
    "    base_predictions = []\n",
    "    for entry in tqdm(base_dicts, desc=\"Sending requests for predictions (Base)\"):\n",
    "        response = requests.post(\"http://localhost:8080/predict_base\", json=entry)\n",
    "        base_predictions.append(response.json()['base_prediction'])\n",
    "\n",
    "    advanced_predictions = []\n",
    "    for entry in tqdm(advanced_dicts, desc=\"Sending requests for predictions (Advanced)\"):\n",
    "        response = requests.post(\"http://localhost:8080/predict_advanced\", json=entry)\n",
    "        advanced_predictions.append(response.json()['advanced_prediction'])\n",
    "\n",
    "    # Analyze results\n",
    "    base_results = Y_base\n",
    "    base_results[\"base_predictions\"] = base_predictions\n",
    "    advanced_results = Y_advanced\n",
    "    advanced_results[\"advanced_predictions\"] = advanced_predictions\n",
    "    \n",
    "    # For base model\n",
    "    base_confusion_matrix = confusion_matrix(base_results['premium_user'], base_results['base_predictions'])\n",
    "    base_precision = precision_score(base_results[\"premium_user\"], base_results[\"base_predictions\"])\n",
    "    base_accuracy = accuracy_score(base_results[\"premium_user\"], base_results[\"base_predictions\"])\n",
    "    base_f1 = f1_score(base_results[\"premium_user\"], base_results[\"base_predictions\"])\n",
    "    \n",
    "    # For advanced model\n",
    "    advanced_confusion_matrix = confusion_matrix(advanced_results['premium_user'], advanced_results['advanced_predictions'])\n",
    "    advanced_precision = precision_score(advanced_results[\"premium_user\"], advanced_results[\"advanced_predictions\"])\n",
    "    advanced_accuracy = accuracy_score(advanced_results[\"premium_user\"], advanced_results[\"advanced_predictions\"])\n",
    "    advanced_f1 = f1_score(advanced_results[\"premium_user\"], advanced_results[\"advanced_predictions\"])\n",
    "\n",
    "    # Collect metrics to dictionary\n",
    "    all_metrics.append({\n",
    "    \"seed\": seed,\n",
    "    \"base\": {\n",
    "        \"confusion_matrix\": base_confusion_matrix.tolist(),\n",
    "        \"precision\": round(base_precision * 100, 3),\n",
    "        \"accuracy\": round(base_accuracy * 100, 3),\n",
    "        \"f1_score\": round(base_f1 * 100, 3)\n",
    "    },\n",
    "    \"advanced\": {\n",
    "        \"confusion_matrix\": advanced_confusion_matrix.tolist(),\n",
    "        \"precision\": round(advanced_precision * 100, 3),\n",
    "        \"accuracy\": round(advanced_accuracy * 100, 3),\n",
    "        \"f1_score\": round(advanced_f1 * 100, 3)\n",
    "    }\n",
    "})"
   ]
  },
  {
   "cell_type": "markdown",
   "metadata": {},
   "source": [
    "Zapisz otrzymane metryki w pliku json"
   ]
  },
  {
   "cell_type": "code",
   "execution_count": 29,
   "metadata": {},
   "outputs": [],
   "source": [
    "try:\n",
    "    with open('content/results/ab_results.json', 'r') as output_file:\n",
    "        old_metrics = json.load(output_file)\n",
    "except FileNotFoundError:\n",
    "    old_metrics = []\n",
    "    \n",
    "old_metrics.extend(all_metrics)\n",
    "    \n",
    "try:\n",
    "    with open('content/results/ab_results.json', 'w') as output_file:\n",
    "        json.dump(old_metrics, output_file, indent=4)\n",
    "except Exception as e:\n",
    "    print(f\"Error: {e}\")"
   ]
  },
  {
   "cell_type": "markdown",
   "metadata": {},
   "source": [
    "## Test t-Studenta\n",
    "### Hipoteza zerowa (H0): Nie ma statystycznej różnicy między modelem zaawansowanym (las losowy) a bazowym (regresja logistyczna).\n",
    "### Hipoteza alternatywna (H1): Istnieje statystyczna różnica między modelem zaawansowanym (las losowy) a bazowym (regresja logistyczna).\n",
    "#### Jeśli p-value jest mniejsza od przyjętego alfa (standardowo 0.05), to znaczy, że wynik jest statystycznie istotny i możemy odrzucić hipotezę zerową.\n",
    "#### Dodatkowo jeśli wartość testu t-Studenta jest ujemna to znaczy, że model bazowy uzyskuje średnio gorsze wyniki od modelu zaawansowanego."
   ]
  },
  {
   "cell_type": "markdown",
   "metadata": {},
   "source": [
    "Użyj świeżo zebranych danych"
   ]
  },
  {
   "cell_type": "code",
   "execution_count": 23,
   "metadata": {},
   "outputs": [
    {
     "name": "stdout",
     "output_type": "stream",
     "text": [
      "[]\n",
      "[]\n",
      "[]\n",
      "[]\n",
      "[]\n",
      "[]\n"
     ]
    }
   ],
   "source": [
    "base_precisions = []\n",
    "advanced_precisions = []\n",
    "\n",
    "base_accuracies = []\n",
    "advanced_accuracies = []\n",
    "\n",
    "base_f1_scores = []\n",
    "advanced_f1_scores = []\n",
    "    \n",
    "for experiment in all_metrics:\n",
    "    base_precisions.append(experiment['base']['precision'])\n",
    "    advanced_precisions.append(experiment['advanced']['precision'])\n",
    "\n",
    "    base_accuracies.append(experiment['base']['accuracy'])\n",
    "    advanced_accuracies.append(experiment['advanced']['accuracy'])\n",
    "\n",
    "    base_f1_scores.append(experiment['base']['f1_score'])\n",
    "    advanced_f1_scores.append(experiment['advanced']['f1_score'])"
   ]
  },
  {
   "cell_type": "markdown",
   "metadata": {},
   "source": [
    "Wczytaj dane z pliku (opcjonalne)"
   ]
  },
  {
   "cell_type": "code",
   "execution_count": 22,
   "metadata": {},
   "outputs": [],
   "source": [
    "try:\n",
    "    with open('content/results/ab_results.json', 'r') as input_file:\n",
    "        old_metrics = json.load(input_file)\n",
    "except Exception as e:\n",
    "    print(f\"Error: {e}\")\n",
    "    old_metrics = [] \n",
    "\n",
    "base_precisions = []\n",
    "advanced_precisions = []\n",
    "\n",
    "base_accuracies = []\n",
    "advanced_accuracies = []\n",
    "\n",
    "base_f1_scores = []\n",
    "advanced_f1_scores = []\n",
    "    \n",
    "for experiment in old_metrics:\n",
    "    base_precisions.append(experiment['base']['precision'])\n",
    "    advanced_precisions.append(experiment['advanced']['precision'])\n",
    "\n",
    "    base_accuracies.append(experiment['base']['accuracy'])\n",
    "    advanced_accuracies.append(experiment['advanced']['accuracy'])\n",
    "\n",
    "    base_f1_scores.append(experiment['base']['f1_score'])\n",
    "    advanced_f1_scores.append(experiment['advanced']['f1_score'])\n"
   ]
  },
  {
   "cell_type": "markdown",
   "metadata": {},
   "source": [
    "Sprawdźmy warunki początkowe: próby A i B mają być niezależne - zgadza się, w każdej iteracji zbiory testowe są rozłączne, rozkład zmiennych ma być normalny - przeprowadzimy test Shapiro-Wilka, by to sprawdić, wariancje mają być podobne - sprawdzimy to testem Levene'a. "
   ]
  },
  {
   "cell_type": "markdown",
   "metadata": {},
   "source": [
    "Test Shapiro-Wilka"
   ]
  },
  {
   "cell_type": "code",
   "execution_count": 20,
   "metadata": {},
   "outputs": [
    {
     "name": "stdout",
     "output_type": "stream",
     "text": [
      "ShapiroResult(statistic=np.float64(0.9652370773355414), pvalue=np.float64(0.031626605416691544))\n",
      "ShapiroResult(statistic=np.float64(0.966786739223672), pvalue=np.float64(0.039405178516958884))\n",
      "ShapiroResult(statistic=np.float64(0.9774700436007213), pvalue=np.float64(0.18181555698942004))\n",
      "ShapiroResult(statistic=np.float64(0.9696724899758798), pvalue=np.float64(0.05952702356954543))\n",
      "ShapiroResult(statistic=np.float64(0.9706333646356163), pvalue=np.float64(0.06833430783621922))\n",
      "ShapiroResult(statistic=np.float64(0.9820188798893889), pvalue=np.float64(0.3390612010903392))\n",
      "Istnieją podstawy do twierdzenia, że rozkład precyzji modelu bazowego nie jest normalny.\n",
      "Istnieją podstawy do twierdzenia, że rozkład precyzji modelu zaawansowanego nie jest normalny.\n",
      "Nie ma powodu do odrzucenia hipotezy zerowej mówiącej, że rozkład dokładności modelu bazowego jest normalny.\n",
      "Nie ma powodu do odrzucenia hipotezy zerowej mówiącej, że rozkład dokładności modelu zaawansowanego jest normalny.\n",
      "Nie ma powodu do odrzucenia hipotezy zerowej mówiącej, że rozkład F1-Score modelu bazowego jest normalny.\n",
      "Nie ma powodu do odrzucenia hipotezy zerowej mówiącej, że rozkład F1-Score modelu zaawansowanego jest normalny.\n"
     ]
    }
   ],
   "source": [
    "shapiro_base_precision = stats.shapiro(base_precisions)\n",
    "shapiro_advanced_precision = stats.shapiro(advanced_precisions)\n",
    "\n",
    "shapiro_base_accuracy = stats.shapiro(base_accuracies)\n",
    "shapiro_advanced_accuracy = stats.shapiro(advanced_accuracies)\n",
    "\n",
    "shapiro_base_f1 = stats.shapiro(base_f1_scores)\n",
    "shapiro_advanced_f1 = stats.shapiro(advanced_f1_scores)\n",
    "\n",
    "print(shapiro_base_precision)\n",
    "print(shapiro_advanced_precision)\n",
    "\n",
    "print(shapiro_base_accuracy)\n",
    "print(shapiro_advanced_accuracy)\n",
    "\n",
    "print(shapiro_base_f1)\n",
    "print(shapiro_advanced_f1)\n",
    "\n",
    "if shapiro_base_precision.pvalue >= 0.05:\n",
    "\tprint(\"Nie ma powodu do odrzucenia hipotezy zerowej mówiącej, że rozkład precyzji modelu bazowego jest normalny.\")\n",
    "else:\n",
    "\tprint(\"Istnieją podstawy do twierdzenia, że rozkład precyzji modelu bazowego nie jest normalny.\")\n",
    "if shapiro_advanced_precision.pvalue >= 0.05:\n",
    "\tprint(\"Nie ma powodu do odrzucenia hipotezy zerowej mówiącej, że rozkład precyzji modelu zaawansowanego jest normalny.\")\n",
    "else:\n",
    "\tprint(\"Istnieją podstawy do twierdzenia, że rozkład precyzji modelu zaawansowanego nie jest normalny.\")\n",
    "\n",
    "if shapiro_base_accuracy.pvalue >= 0.05:\n",
    "\tprint(\"Nie ma powodu do odrzucenia hipotezy zerowej mówiącej, że rozkład dokładności modelu bazowego jest normalny.\")\n",
    "else:\n",
    "\tprint(\"Istnieją podstawy do twierdzenia, że rozkład dokładności modelu bazowego nie jest normalny.\")\n",
    "if shapiro_advanced_accuracy.pvalue >= 0.05:\n",
    "\tprint(\"Nie ma powodu do odrzucenia hipotezy zerowej mówiącej, że rozkład dokładności modelu zaawansowanego jest normalny.\")\n",
    "else:\n",
    "\tprint(\"Istnieją podstawy do twierdzenia, że rozkład dokładności modelu zaawansowanego nie jest normalny.\")\n",
    "\n",
    "if shapiro_base_f1.pvalue >= 0.05:\n",
    "\tprint(\"Nie ma powodu do odrzucenia hipotezy zerowej mówiącej, że rozkład F1-Score modelu bazowego jest normalny.\")\n",
    "else:\n",
    "\tprint(\"Istnieją podstawy do twierdzenia, że rozkład F1-Score modelu bazowego nie jest normalny.\")\n",
    "if shapiro_advanced_f1.pvalue >= 0.05:\n",
    "\tprint(\"Nie ma powodu do odrzucenia hipotezy zerowej mówiącej, że rozkład F1-Score modelu zaawansowanego jest normalny.\")\n",
    "else:\n",
    "\tprint(\"Istnieją podstawy do twierdzenia, że rozkład F1-Score modelu zaawansowanego nie jest normalny.\")\n"
   ]
  },
  {
   "cell_type": "markdown",
   "metadata": {},
   "source": [
    "Okazało się, że precyzje nie mają rozkładu normalnego, więc nie powinno się ich używać w teście t-Studenta. Dokładności i F1-Scores nadają się do tej analizy."
   ]
  },
  {
   "cell_type": "markdown",
   "metadata": {},
   "source": [
    "Test Levene'a"
   ]
  },
  {
   "cell_type": "code",
   "execution_count": 21,
   "metadata": {},
   "outputs": [
    {
     "name": "stdout",
     "output_type": "stream",
     "text": [
      "1.1701214002424263 0.2810672486960893\n",
      "2.5367944514040697 0.1132708692275008\n",
      "3.0579988332544668 0.0823330701470091\n",
      "Nie ma powodu do odrzucenia hipotezy zerowej mówiącej, że wariancje precyzji modelu bazowego i zaawansowanego są podobne.\n",
      "Nie ma powodu do odrzucenia hipotezy zerowej mówiącej, że wariancje dokładności modelu bazowego i zaawansowanego są podobne.\n",
      "Nie ma powodu do odrzucenia hipotezy zerowej mówiącej, że wariancje F1-Score modelu bazowego i zaawansowanego są podobne.\n"
     ]
    }
   ],
   "source": [
    "precision_levene, precision_p = stats.levene(base_precisions, advanced_precisions)\n",
    "\n",
    "accuracy_levene, accuracy_p = stats.levene(base_accuracies, advanced_accuracies)\n",
    "\n",
    "f1_levene, f1_p = stats.levene(base_f1_scores, advanced_f1_scores)\n",
    "\n",
    "print(precision_levene, precision_p)\n",
    "\n",
    "print(accuracy_levene, accuracy_p)\n",
    "\n",
    "print(f1_levene, f1_p)\n",
    "\n",
    "if precision_p >= 0.05:\n",
    "\tprint(\"Nie ma powodu do odrzucenia hipotezy zerowej mówiącej, że wariancje precyzji modelu bazowego i zaawansowanego są podobne.\")\n",
    "else:\n",
    "\tprint(\"Istnieją podstawy do twierdzenia, że wariancje precyzji modelu bazowego i zaawansowanego nie są podobne.\")\n",
    "\n",
    "if accuracy_p >= 0.05:\n",
    "\tprint(\"Nie ma powodu do odrzucenia hipotezy zerowej mówiącej, że wariancje dokładności modelu bazowego i zaawansowanego są podobne.\")\n",
    "else:\n",
    "\tprint(\"Istnieją podstawy do twierdzenia, że wariancje dokładności modelu bazowego i zaawansowanego nie są podobne.\")\n",
    "\n",
    "if f1_p >= 0.05:\n",
    "\tprint(\"Nie ma powodu do odrzucenia hipotezy zerowej mówiącej, że wariancje F1-Score modelu bazowego i zaawansowanego są podobne.\")\n",
    "else:\n",
    "\tprint(\"Istnieją podstawy do twierdzenia, że wariancje F1-Score modelu bazowego i zaawansowanego nie są podobne.\")\n"
   ]
  },
  {
   "cell_type": "markdown",
   "metadata": {},
   "source": [
    "Wariancje precyzji, dokładności i F1-Score są podobne dla modelu bazowego i zaawansowanego."
   ]
  },
  {
   "cell_type": "markdown",
   "metadata": {},
   "source": [
    "Przeprowadź test t-Studenta"
   ]
  },
  {
   "cell_type": "code",
   "execution_count": 35,
   "metadata": {},
   "outputs": [
    {
     "name": "stdout",
     "output_type": "stream",
     "text": [
      "Test t-Studenta dla precyzji: t-statistic = 3.3597572212137465, p-value = 0.0009835200808727357\n",
      "Test t-Studenta dla dokładności: t-statistic = 24.174700780158993, p-value = 2.7380248085911346e-54\n",
      "Test t-Studenta dla F1-Score: t-statistic = 28.863807722273084, p-value = 5.205021235075072e-64\n",
      "Różnica w precyzji jest statystycznie istotna\n",
      "Model zaawansowany ma lepszą precyzję\n",
      "Różnica w dokładności jest statystycznie istotna\n",
      "Model zaawansowany ma lepszą dokładność\n",
      "Różnica w F1-Score jest statystycznie istotna\n",
      "Model zaawansowany ma lepszy F1-Score\n"
     ]
    }
   ],
   "source": [
    "alpha = 0.05\n",
    "\n",
    "t_stat_precision, p_value_precision = stats.ttest_ind(advanced_precisions, base_precisions)\n",
    "t_stat_accuracy, p_value_accuracy = stats.ttest_ind(advanced_accuracies, base_accuracies)\n",
    "t_stat_f1, p_value_f1 = stats.ttest_ind(advanced_f1_scores, base_f1_scores)\n",
    "\n",
    "print(f\"Test t-Studenta dla precyzji: t-statistic = {t_stat_precision}, p-value = {p_value_precision}\")\n",
    "print(f\"Test t-Studenta dla dokładności: t-statistic = {t_stat_accuracy}, p-value = {p_value_accuracy}\")\n",
    "print(f\"Test t-Studenta dla F1-Score: t-statistic = {t_stat_f1}, p-value = {p_value_f1}\")\n",
    "\n",
    "if p_value_precision < alpha:\n",
    "    print(\"Różnica w precyzji jest statystycznie istotna\")\n",
    "    if t_stat_precision > 0:\n",
    "        print(\"Model zaawansowany ma lepszą precyzję\")\n",
    "    elif t_stat_precision < 0:\n",
    "        print(\"Model zaawansowany ma gorszą precyzję\")\n",
    "else:\n",
    "    print(\"Różnica w precyzji nie jest statystycznie istotna\")\n",
    "\n",
    "if p_value_accuracy < alpha:\n",
    "    print(\"Różnica w dokładności jest statystycznie istotna\")\n",
    "    if t_stat_accuracy > 0:\n",
    "        print(\"Model zaawansowany ma lepszą dokładność\")\n",
    "    elif t_stat_accuracy < 0:\n",
    "        print(\"Model zaawansowany ma gorszą dokładność\")\n",
    "else:\n",
    "    print(\"Różnica w dokładności nie jest statystycznie istotna\")\n",
    "\n",
    "if p_value_f1 < alpha:\n",
    "    print(\"Różnica w F1-Score jest statystycznie istotna\")\n",
    "    if t_stat_f1 > 0:\n",
    "        print(\"Model zaawansowany ma lepszy F1-Score\")\n",
    "    elif t_stat_f1 < 0:\n",
    "        print(\"Model zaawansowany ma gorszy F1-Score\")\n",
    "else:\n",
    "    print(\"Różnica w F1-Score nie jest statystycznie istotna\")"
   ]
  }
 ],
 "metadata": {
  "kernelspec": {
   "display_name": ".venv",
   "language": "python",
   "name": "python3"
  },
  "language_info": {
   "codemirror_mode": {
    "name": "ipython",
    "version": 3
   },
   "file_extension": ".py",
   "mimetype": "text/x-python",
   "name": "python",
   "nbconvert_exporter": "python",
   "pygments_lexer": "ipython3",
   "version": "3.11.9"
  }
 },
 "nbformat": 4,
 "nbformat_minor": 2
}
