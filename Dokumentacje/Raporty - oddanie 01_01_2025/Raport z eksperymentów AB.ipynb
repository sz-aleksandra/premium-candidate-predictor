{
 "cells": [
  {
   "cell_type": "code",
   "execution_count": 7,
   "metadata": {},
   "outputs": [
    {
     "name": "stdout",
     "output_type": "stream",
     "text": [
      "Requirement already satisfied: requests in d:\\syncvestigat\\2_studia\\5 sem\\ium\\gitlaby\\git_vpo_dok_wstep\\ium-projekt-mast-have-24z\\.venv\\lib\\site-packages (2.32.3)\n",
      "Requirement already satisfied: charset-normalizer<4,>=2 in d:\\syncvestigat\\2_studia\\5 sem\\ium\\gitlaby\\git_vpo_dok_wstep\\ium-projekt-mast-have-24z\\.venv\\lib\\site-packages (from requests) (3.4.1)\n",
      "Requirement already satisfied: idna<4,>=2.5 in d:\\syncvestigat\\2_studia\\5 sem\\ium\\gitlaby\\git_vpo_dok_wstep\\ium-projekt-mast-have-24z\\.venv\\lib\\site-packages (from requests) (3.10)\n",
      "Requirement already satisfied: urllib3<3,>=1.21.1 in d:\\syncvestigat\\2_studia\\5 sem\\ium\\gitlaby\\git_vpo_dok_wstep\\ium-projekt-mast-have-24z\\.venv\\lib\\site-packages (from requests) (2.3.0)\n",
      "Requirement already satisfied: certifi>=2017.4.17 in d:\\syncvestigat\\2_studia\\5 sem\\ium\\gitlaby\\git_vpo_dok_wstep\\ium-projekt-mast-have-24z\\.venv\\lib\\site-packages (from requests) (2024.12.14)\n",
      "Note: you may need to restart the kernel to use updated packages.\n"
     ]
    }
   ],
   "source": [
    "%pip install requests"
   ]
  },
  {
   "cell_type": "markdown",
   "metadata": {},
   "source": [
    "# Eksperyment A/B\n",
    "Najpierw zbierane są dane do przeprowadzenia eksperymentu a następnie jest on analizowany. "
   ]
  },
  {
   "cell_type": "markdown",
   "metadata": {},
   "source": [
    "## Zebranie danych do testu\n",
    "*Zdefiniowanie pliku w któym zostaną zapisane eksperymenty oraz ścieżek do danych testowych*"
   ]
  },
  {
   "cell_type": "code",
   "execution_count": 8,
   "metadata": {},
   "outputs": [],
   "source": [
    "PATH_TO_DATA_X_TEST = 'content/custom_data/X_test.csv'\n",
    "PATH_TO_DATA_Y_TEST = 'content/custom_data/Y_test.csv'\n",
    "PATH_TO_EXPERIMENT_DATA = 'content/results/ab_results_test.json'"
   ]
  },
  {
   "cell_type": "markdown",
   "metadata": {},
   "source": [
    "*Załadowanie bibliotek, modułów i plików ze zbiorami testowymi oraz definicja funkcji pomocniczej*"
   ]
  },
  {
   "cell_type": "code",
   "execution_count": 9,
   "metadata": {},
   "outputs": [],
   "source": [
    "import requests\n",
    "from sklearn.model_selection import train_test_split\n",
    "from tqdm import tqdm\n",
    "from sklearn.metrics import confusion_matrix, precision_score, accuracy_score, f1_score\n",
    "from scipy import stats\n",
    "import json\n",
    "from numpy import var\n",
    "import matplotlib.pyplot as plt\n",
    "\n",
    "from model_creation import load_and_preprocess_data\n",
    "\n",
    "all_metrics = []\n",
    "\n",
    "X_test = load_and_preprocess_data(PATH_TO_DATA_X_TEST)\n",
    "Y_test = load_and_preprocess_data(PATH_TO_DATA_Y_TEST)\n",
    "\n",
    "def plot_pvalue_changes(base, advanced,plot_title):\n",
    "\tshapiro_p_values = []\n",
    "\tlevene_p_values = []\n",
    "\tttest_p_values = []\n",
    "\n",
    "\tfor i in range(3, len(base) + 1):\n",
    "\t\tbase_sample = base[:i]\n",
    "\t\tadvanced_sample = advanced[:i]\n",
    "\n",
    "\t\t_, shapiro_p_base = stats.shapiro(base_sample)\n",
    "\t\t_, shapiro_p_adv = stats.shapiro(advanced_sample)\n",
    "\t\tshapiro_p_values.append((shapiro_p_base, shapiro_p_adv))\n",
    "\n",
    "\t\t_, levene_p = stats.levene(base_sample, advanced_sample)\n",
    "\t\tlevene_p_values.append(levene_p)\n",
    "\n",
    "\t\t_, ttest_p = stats.ttest_ind(base_sample, advanced_sample, equal_var=True)\n",
    "\t\tttest_p_values.append(ttest_p)\n",
    "\n",
    "\tx = range(3, len(base) + 1)\n",
    "\tshapiro_base_p, shapiro_adv_p = zip(*shapiro_p_values)\n",
    "\n",
    "\tplt.figure(figsize=(12, 8))\n",
    "\tplt.suptitle(plot_title)\n",
    "\tplt.subplot(3, 1, 1)\n",
    "\tplt.plot(x, shapiro_base_p, label='Shapiro-Wilk Base', marker='o')\n",
    "\tplt.plot(x, shapiro_adv_p, label='Shapiro-Wilk Advanced', marker='o')\n",
    "\tplt.axhline(y=0.05, color='r', linestyle='--', label='p = 0.05')\n",
    "\tplt.title('Shapiro-Wilk Test p-values')\n",
    "\tplt.xlabel('Number of Samples')\n",
    "\tplt.ylabel('p-value')\n",
    "\tplt.legend()\n",
    "\n",
    "\tplt.subplot(3, 1, 2)\n",
    "\tplt.plot(x, levene_p_values, label='Levene Test', color='g', marker='o')\n",
    "\tplt.axhline(y=0.05, color='r', linestyle='--', label='p = 0.05')\n",
    "\tplt.title('Levene Test p-values')\n",
    "\tplt.xlabel('Number of Samples')\n",
    "\tplt.ylabel('p-value')\n",
    "\tplt.legend()\n",
    "\n",
    "\tplt.subplot(3, 1, 3)\n",
    "\tplt.plot(x, ttest_p_values, label='t-Test', color='b', marker='o')\n",
    "\tplt.axhline(y=0.05, color='r', linestyle='--', label='p = 0.05')\n",
    "\tplt.title('t-Test p-values')\n",
    "\tplt.xlabel('Number of Samples')\n",
    "\tplt.ylabel('p-value')\n",
    "\tplt.legend()\n",
    "\n",
    "\tplt.tight_layout()\n",
    "\tplt.show()"
   ]
  },
  {
   "cell_type": "markdown",
   "metadata": {},
   "source": [
    "Do uzyskania miarodajnych wyników oraz wykrycia małych różnic w modelach wymagane są duże ilości danych. Ze względu na ograniczenia w ilości danych, spowodowane tym, że test przeprowadzono na podstawie zebranych danych, a nie na danych produkcyjnych, zastosowano symulację większej ilości danych. Dokonano tego poprzez podział danych na podstawie \"seedów\" i kilkunastokrotne wykorzystanie tych samych danych do określenia miar jakości modeli, lecz podzielonych w różny sposób.\n",
    "\n",
    "*Wybranie seedów, na podstawie których zostały podzielone przypadki między model A i B.*"
   ]
  },
  {
   "cell_type": "code",
   "execution_count": null,
   "metadata": {},
   "outputs": [],
   "source": [
    "seeds = [*range(1,2)]"
   ]
  },
  {
   "cell_type": "markdown",
   "metadata": {},
   "source": [
    "*Sprawdzenie, czy mikroserwis jest włączony*"
   ]
  },
  {
   "cell_type": "code",
   "execution_count": 11,
   "metadata": {},
   "outputs": [
    {
     "name": "stdout",
     "output_type": "stream",
     "text": [
      "Mikroserwis działa\n"
     ]
    }
   ],
   "source": [
    "try:\n",
    "    requests.get(\"http://localhost:8080/predict\")\n",
    "    print(\"Mikroserwis działa\")\n",
    "except requests.exceptions.RequestException as e:\n",
    "    print(\"Mikroserwis nie działa lub nie jest włączony\")\n",
    "    raise e"
   ]
  },
  {
   "cell_type": "markdown",
   "metadata": {},
   "source": [
    "*Zebranie predykcji dla podzielonych danych (połowa danych przewidywana jest przez model bazowy a połowa przez model zaawansowany) i zapisanie metryk jakości modeli na ich podstawie*"
   ]
  },
  {
   "cell_type": "code",
   "execution_count": null,
   "metadata": {},
   "outputs": [
    {
     "name": "stderr",
     "output_type": "stream",
     "text": [
      "  0%|          | 0/29 [00:00<?, ?it/s]"
     ]
    },
    {
     "name": "stdout",
     "output_type": "stream",
     "text": [
      "Running test for seed: 1\n"
     ]
    },
    {
     "name": "stderr",
     "output_type": "stream",
     "text": [
      "Sending requests for predictions (Base): 100%|██████████| 150/150 [05:06<00:00,  2.04s/it]\n"
     ]
    }
   ],
   "source": [
    "for seed in tqdm(seeds):\n",
    "    print(f\"Running test for seed: {seed}\")\n",
    "\n",
    "    X_base, X_advanced, Y_base, Y_advanced = train_test_split(X_test, Y_test, test_size=0.5, random_state=seed)\n",
    "    base_dicts = X_base.to_dict(orient='records')\n",
    "    advanced_dicts = X_advanced.to_dict(orient='records')\n",
    "\n",
    "    # Make predictions for divided sets\n",
    "    base_predictions = []\n",
    "    for entry in tqdm(base_dicts, desc=\"Sending requests for predictions (Base)\"):\n",
    "        response = requests.post(\"http://localhost:8080/predict_base\", json=entry)\n",
    "        base_predictions.append(response.json()['base_prediction'])\n",
    "\n",
    "    advanced_predictions = []\n",
    "    for entry in tqdm(advanced_dicts, desc=\"Sending requests for predictions (Advanced)\"):\n",
    "        response = requests.post(\"http://localhost:8080/predict_advanced\", json=entry)\n",
    "        advanced_predictions.append(response.json()['advanced_prediction'])\n",
    "\n",
    "    # Append predictions to the Y data\n",
    "    base_results = Y_base\n",
    "    base_results[\"base_predictions\"] = base_predictions\n",
    "    advanced_results = Y_advanced\n",
    "    advanced_results[\"advanced_predictions\"] = advanced_predictions\n",
    "    \n",
    "    # For base model\n",
    "    base_confusion_matrix = confusion_matrix(base_results['premium_user'], base_results['base_predictions'])\n",
    "    base_precision = precision_score(base_results[\"premium_user\"], base_results[\"base_predictions\"])\n",
    "    base_accuracy = accuracy_score(base_results[\"premium_user\"], base_results[\"base_predictions\"])\n",
    "    base_f1 = f1_score(base_results[\"premium_user\"], base_results[\"base_predictions\"])\n",
    "    \n",
    "    # For advanced model\n",
    "    advanced_confusion_matrix = confusion_matrix(advanced_results['premium_user'], advanced_results['advanced_predictions'])\n",
    "    advanced_precision = precision_score(advanced_results[\"premium_user\"], advanced_results[\"advanced_predictions\"])\n",
    "    advanced_accuracy = accuracy_score(advanced_results[\"premium_user\"], advanced_results[\"advanced_predictions\"])\n",
    "    advanced_f1 = f1_score(advanced_results[\"premium_user\"], advanced_results[\"advanced_predictions\"])\n",
    "\n",
    "    # Collect metrics to dictionary\n",
    "    all_metrics.append({\n",
    "    \"seed\": seed,\n",
    "    \"base\": {\n",
    "        \"confusion_matrix\": base_confusion_matrix.tolist(),\n",
    "        \"precision\": round(base_precision * 100, 3),\n",
    "        \"accuracy\": round(base_accuracy * 100, 3),\n",
    "        \"f1_score\": round(base_f1 * 100, 3)\n",
    "    },\n",
    "    \"advanced\": {\n",
    "        \"confusion_matrix\": advanced_confusion_matrix.tolist(),\n",
    "        \"precision\": round(advanced_precision * 100, 3),\n",
    "        \"accuracy\": round(advanced_accuracy * 100, 3),\n",
    "        \"f1_score\": round(advanced_f1 * 100, 3)\n",
    "    }\n",
    "})"
   ]
  },
  {
   "cell_type": "markdown",
   "metadata": {},
   "source": [
    "*Zapisanie otrzymanych metryk w pliku json (dodawane są do pliku jeśli już jakiś był)*"
   ]
  },
  {
   "cell_type": "code",
   "execution_count": null,
   "metadata": {},
   "outputs": [],
   "source": [
    "try:\n",
    "    with open(PATH_TO_EXPERIMENT_DATA, 'r') as output_file:\n",
    "        loaded_metrices = json.load(output_file)\n",
    "except FileNotFoundError:\n",
    "    loaded_metrices = []\n",
    "    \n",
    "loaded_metrices.extend(all_metrics)\n",
    "    \n",
    "try:\n",
    "    with open(PATH_TO_EXPERIMENT_DATA, 'w') as output_file:\n",
    "        json.dump(loaded_metrices, output_file, indent=4)\n",
    "except Exception as e:\n",
    "    print(f\"Error: {e}\")"
   ]
  },
  {
   "cell_type": "markdown",
   "metadata": {},
   "source": [
    "## Test t-Studenta\n",
    "**Hipoteza zerowa (H0)** - Nie ma statystycznej różnicy między modelem zaawansowanym (las losowy) a bazowym (regresja logistyczna).\n",
    "\n",
    "**Hipoteza alternatywna (H1)** - Istnieje statystyczna różnica między modelem zaawansowanym (las losowy) a bazowym (regresja logistyczna).\n",
    "\n",
    "Jeśli p-value jest mniejsza od przyjętego alfa (standardowo 0.05), to znaczy, że wynik jest statystycznie istotny i możemy odrzucić hipotezę zerową.\n",
    "\n",
    "Dodatkowo jeśli wartość testu t-Studenta jest ujemna to znaczy, że model bazowy uzyskuje średnio gorsze wyniki od modelu zaawansowanego."
   ]
  },
  {
   "cell_type": "markdown",
   "metadata": {},
   "source": [
    "*Załadowanie zebranych danych, niżej jest wczytanie danych z pliku*"
   ]
  },
  {
   "cell_type": "code",
   "execution_count": null,
   "metadata": {},
   "outputs": [],
   "source": [
    "base_precisions = []\n",
    "advanced_precisions = []\n",
    "\n",
    "base_accuracies = []\n",
    "advanced_accuracies = []\n",
    "\n",
    "base_f1_scores = []\n",
    "advanced_f1_scores = []\n",
    "    \n",
    "for experiment in all_metrics:\n",
    "    base_precisions.append(experiment['base']['precision'])\n",
    "    advanced_precisions.append(experiment['advanced']['precision'])\n",
    "\n",
    "    base_accuracies.append(experiment['base']['accuracy'])\n",
    "    advanced_accuracies.append(experiment['advanced']['accuracy'])\n",
    "\n",
    "    base_f1_scores.append(experiment['base']['f1_score'])\n",
    "    advanced_f1_scores.append(experiment['advanced']['f1_score'])"
   ]
  },
  {
   "cell_type": "markdown",
   "metadata": {},
   "source": [
    "*Opcjonalne wczytanie danych z pliku*"
   ]
  },
  {
   "cell_type": "code",
   "execution_count": null,
   "metadata": {},
   "outputs": [],
   "source": [
    "try:\n",
    "    with open(PATH_TO_EXPERIMENT_DATA, 'r') as input_file:\n",
    "        loaded_metrices = json.load(input_file)\n",
    "except Exception as e:\n",
    "    print(f\"Error: {e}\")\n",
    "    raise e\n",
    "\n",
    "base_precisions = []\n",
    "advanced_precisions = []\n",
    "\n",
    "base_accuracies = []\n",
    "advanced_accuracies = []\n",
    "\n",
    "base_f1_scores = []\n",
    "advanced_f1_scores = []\n",
    "    \n",
    "for experiment in loaded_metrices:\n",
    "    base_precisions.append(experiment['base']['precision'])\n",
    "    advanced_precisions.append(experiment['advanced']['precision'])\n",
    "\n",
    "    base_accuracies.append(experiment['base']['accuracy'])\n",
    "    advanced_accuracies.append(experiment['advanced']['accuracy'])\n",
    "\n",
    "    base_f1_scores.append(experiment['base']['f1_score'])\n",
    "    advanced_f1_scores.append(experiment['advanced']['f1_score'])\n"
   ]
  },
  {
   "cell_type": "markdown",
   "metadata": {},
   "source": [
    "### Sprawdzenie warunków początkowych\n",
    "**Warunki początkowe testu T-Studenta:**\n",
    "- Próby A i B są niezależne - są niezależne ponieważ w każdej iteracji zbiory testowe są rozłączne\n",
    "- Rozkład zmiennych musi być zgodny z rozkłądem normalnym - warunek sprawdzony zostanie za pomocą testu Shapiro-Wilka \n",
    "- Wariancje prób mają być podobne - zostanie to sprawdzone testem Levene'a"
   ]
  },
  {
   "cell_type": "markdown",
   "metadata": {},
   "source": [
    "#### Sprawdzenie rozkładu prób za pomocą testu Shapiro-Wilka"
   ]
  },
  {
   "cell_type": "code",
   "execution_count": null,
   "metadata": {},
   "outputs": [],
   "source": [
    "shapiro_base_precision = stats.shapiro(base_precisions)\n",
    "shapiro_advanced_precision = stats.shapiro(advanced_precisions)\n",
    "\n",
    "shapiro_base_accuracy = stats.shapiro(base_accuracies)\n",
    "shapiro_advanced_accuracy = stats.shapiro(advanced_accuracies)\n",
    "\n",
    "shapiro_base_f1 = stats.shapiro(base_f1_scores)\n",
    "shapiro_advanced_f1 = stats.shapiro(advanced_f1_scores)\n",
    "\n",
    "if shapiro_base_precision.pvalue >= 0.05:\n",
    "\tprint(\"Nie ma powodu do odrzucenia hipotezy zerowej mówiącej, że rozkład precyzji modelu bazowego jest normalny.\")\n",
    "else:\n",
    "\tprint(\"Istnieją podstawy do twierdzenia, że rozkład precyzji modelu bazowego nie jest normalny.\")\n",
    "if shapiro_advanced_precision.pvalue >= 0.05:\n",
    "\tprint(\"Nie ma powodu do odrzucenia hipotezy zerowej mówiącej, że rozkład precyzji modelu zaawansowanego jest normalny.\")\n",
    "else:\n",
    "\tprint(\"Istnieją podstawy do twierdzenia, że rozkład precyzji modelu zaawansowanego nie jest normalny.\")\n",
    "\n",
    "if shapiro_base_accuracy.pvalue >= 0.05:\n",
    "\tprint(\"Nie ma powodu do odrzucenia hipotezy zerowej mówiącej, że rozkład dokładności modelu bazowego jest normalny.\")\n",
    "else:\n",
    "\tprint(\"Istnieją podstawy do twierdzenia, że rozkład dokładności modelu bazowego nie jest normalny.\")\n",
    "if shapiro_advanced_accuracy.pvalue >= 0.05:\n",
    "\tprint(\"Nie ma powodu do odrzucenia hipotezy zerowej mówiącej, że rozkład dokładności modelu zaawansowanego jest normalny.\")\n",
    "else:\n",
    "\tprint(\"Istnieją podstawy do twierdzenia, że rozkład dokładności modelu zaawansowanego nie jest normalny.\")\n",
    "\n",
    "if shapiro_base_f1.pvalue >= 0.05:\n",
    "\tprint(\"Nie ma powodu do odrzucenia hipotezy zerowej mówiącej, że rozkład F1-Score modelu bazowego jest normalny.\")\n",
    "else:\n",
    "\tprint(\"Istnieją podstawy do twierdzenia, że rozkład F1-Score modelu bazowego nie jest normalny.\")\n",
    "if shapiro_advanced_f1.pvalue >= 0.05:\n",
    "\tprint(\"Nie ma powodu do odrzucenia hipotezy zerowej mówiącej, że rozkład F1-Score modelu zaawansowanego jest normalny.\")\n",
    "else:\n",
    "\tprint(\"Istnieją podstawy do twierdzenia, że rozkład F1-Score modelu zaawansowanego nie jest normalny.\")\n"
   ]
  },
  {
   "cell_type": "markdown",
   "metadata": {},
   "source": [
    "Okazało się, że precyzje nie mają rozkładu normalnego, więc nie powinno się ich używać w teście t-Studenta. Dokładności i F1-Scores nadają się do tej analizy."
   ]
  },
  {
   "cell_type": "markdown",
   "metadata": {},
   "source": [
    "#### Sprawdzenie wariancji prób testem Levene'a"
   ]
  },
  {
   "cell_type": "code",
   "execution_count": null,
   "metadata": {},
   "outputs": [],
   "source": [
    "precision_levene, precision_p = stats.levene(base_precisions, advanced_precisions)\n",
    "\n",
    "accuracy_levene, accuracy_p = stats.levene(base_accuracies, advanced_accuracies)\n",
    "\n",
    "f1_levene, f1_p = stats.levene(base_f1_scores, advanced_f1_scores)\n",
    "\n",
    "if precision_p >= 0.05:\n",
    "\tprint(\"Nie ma powodu do odrzucenia hipotezy zerowej mówiącej, że wariancje precyzji modelu bazowego i zaawansowanego są podobne.\")\n",
    "else:\n",
    "\tprint(\"Istnieją podstawy do twierdzenia, że wariancje precyzji modelu bazowego i zaawansowanego nie są podobne.\")\n",
    "\n",
    "if accuracy_p >= 0.05:\n",
    "\tprint(\"Nie ma powodu do odrzucenia hipotezy zerowej mówiącej, że wariancje dokładności modelu bazowego i zaawansowanego są podobne.\")\n",
    "else:\n",
    "\tprint(\"Istnieją podstawy do twierdzenia, że wariancje dokładności modelu bazowego i zaawansowanego nie są podobne.\")\n",
    "\n",
    "if f1_p >= 0.05:\n",
    "\tprint(\"Nie ma powodu do odrzucenia hipotezy zerowej mówiącej, że wariancje F1-Score modelu bazowego i zaawansowanego są podobne.\")\n",
    "else:\n",
    "\tprint(\"Istnieją podstawy do twierdzenia, że wariancje F1-Score modelu bazowego i zaawansowanego nie są podobne.\")\n"
   ]
  },
  {
   "cell_type": "markdown",
   "metadata": {},
   "source": [
    "Wariancje precyzji, dokładności i F1-Score są podobne dla modelu bazowego i zaawansowanego."
   ]
  },
  {
   "cell_type": "markdown",
   "metadata": {},
   "source": [
    "### Przeprowadzenie testu T-studenta"
   ]
  },
  {
   "cell_type": "code",
   "execution_count": null,
   "metadata": {},
   "outputs": [],
   "source": [
    "alpha = 0.05\n",
    "\n",
    "t_stat_precision, p_value_precision = stats.ttest_ind(advanced_precisions, base_precisions)\n",
    "t_stat_accuracy, p_value_accuracy = stats.ttest_ind(advanced_accuracies, base_accuracies)\n",
    "t_stat_f1, p_value_f1 = stats.ttest_ind(advanced_f1_scores, base_f1_scores)\n",
    "\n",
    "print(f\"Test t-Studenta dla precyzji: t-statistic = {t_stat_precision}, p-value = {p_value_precision}\")\n",
    "print(f\"Test t-Studenta dla dokładności: t-statistic = {t_stat_accuracy}, p-value = {p_value_accuracy}\")\n",
    "print(f\"Test t-Studenta dla F1-Score: t-statistic = {t_stat_f1}, p-value = {p_value_f1}\")\n",
    "print(\"\")\n",
    "if p_value_precision < alpha:\n",
    "    print(\"Różnica w precyzji jest statystycznie istotna\")\n",
    "    if t_stat_precision > 0:\n",
    "        print(\"\\tModel zaawansowany ma lepszą precyzję\")\n",
    "    elif t_stat_precision < 0:\n",
    "        print(\"\\tModel zaawansowany ma gorszą precyzję\")\n",
    "else:\n",
    "    print(\"Różnica w precyzji nie jest statystycznie istotna\")\n",
    "print(\"\")\n",
    "if p_value_accuracy < alpha:\n",
    "    print(\"Różnica w dokładności jest statystycznie istotna\")\n",
    "    if t_stat_accuracy > 0:\n",
    "        print(\"\\tModel zaawansowany ma lepszą dokładność\")\n",
    "    elif t_stat_accuracy < 0:\n",
    "        print(\"\\tModel zaawansowany ma gorszą dokładność\")\n",
    "else:\n",
    "    print(\"Różnica w dokładności nie jest statystycznie istotna\")\n",
    "print(\"\")\n",
    "\n",
    "if p_value_f1 < alpha:\n",
    "    print(\"Różnica w F1-Score jest statystycznie istotna\")\n",
    "    if t_stat_f1 > 0:\n",
    "        print(\"\\tModel zaawansowany ma lepszy F1-Score\")\n",
    "    elif t_stat_f1 < 0:\n",
    "        print(\"\\tModel zaawansowany ma gorszy F1-Score\")\n",
    "else:\n",
    "    print(\"Różnica w F1-Score nie jest statystycznie istotna\")"
   ]
  },
  {
   "cell_type": "markdown",
   "metadata": {},
   "source": [
    "#### Porównanie p-values w zależności od próbek dla różnych miar jakości"
   ]
  },
  {
   "cell_type": "code",
   "execution_count": null,
   "metadata": {},
   "outputs": [],
   "source": [
    "plot_pvalue_changes(base_precisions, advanced_precisions, \"Precision metric\")\n",
    "plot_pvalue_changes(base_accuracies, advanced_accuracies, \"Accuracy metric\")\n",
    "plot_pvalue_changes(base_f1_scores, advanced_f1_scores, \"F1-score metric\")"
   ]
  },
  {
   "cell_type": "markdown",
   "metadata": {},
   "source": [
    "Wystarczy 5 próbek wyników eksperymentu A/B, by stwierdzić statystycznie istotną różnicę w dokładności i F1-Score między modelem bazowym a zaawansowanym. Nie uda się to w przypadku precyzji, nawet przy 30 próbkach."
   ]
  },
  {
   "cell_type": "markdown",
   "metadata": {},
   "source": [
    "# Wnioski\n",
    "**Hipoteza zerowa (H0)** - Nie ma statystycznej różnicy między modelem zaawansowanym (las losowy) a bazowym (regresja logistyczna).\n",
    "\n",
    "**Hipoteza alternatywna (H1)** - Istnieje statystyczna różnica między modelem zaawansowanym (las losowy) a bazowym (regresja logistyczna).\n",
    "\n",
    "Przeprowadzony eksperyment A/B pokazał, że chyba istnieje statystyczna różnica między modelem zaawansowanym a bazowym poprzez odrzucenie hipotezy zerowej przy analizie dokładności modeli oraz F1-Score. Potwierdza to wyniki otrzymane w raporcie z budowy modeli. "
   ]
  }
 ],
 "metadata": {
  "kernelspec": {
   "display_name": ".venv",
   "language": "python",
   "name": "python3"
  },
  "language_info": {
   "codemirror_mode": {
    "name": "ipython",
    "version": 3
   },
   "file_extension": ".py",
   "mimetype": "text/x-python",
   "name": "python",
   "nbconvert_exporter": "python",
   "pygments_lexer": "ipython3",
   "version": "3.11.9"
  }
 },
 "nbformat": 4,
 "nbformat_minor": 2
}
